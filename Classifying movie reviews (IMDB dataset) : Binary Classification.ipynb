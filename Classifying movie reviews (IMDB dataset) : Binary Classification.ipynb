{
  "nbformat": 4,
  "nbformat_minor": 0,
  "metadata": {
    "colab": {
      "provenance": [],
      "authorship_tag": "ABX9TyMiVA8oy2I15ajLANw2kbP4",
      "include_colab_link": true
    },
    "kernelspec": {
      "name": "python3",
      "display_name": "Python 3"
    },
    "language_info": {
      "name": "python"
    }
  },
  "cells": [
    {
      "cell_type": "markdown",
      "metadata": {
        "id": "view-in-github",
        "colab_type": "text"
      },
      "source": [
        "<a href=\"https://colab.research.google.com/github/kalaiselvan-t/Deep-Learning/blob/master/Classifying%20movie%20reviews%20(IMDB%20dataset)%20%3A%20Binary%20Classification.ipynb\" target=\"_parent\"><img src=\"https://colab.research.google.com/assets/colab-badge.svg\" alt=\"Open In Colab\"/></a>"
      ]
    },
    {
      "cell_type": "markdown",
      "source": [
        "## Classifying Movie Reviews from the IMDB dataset"
      ],
      "metadata": {
        "id": "4HUUMXIxqXZT"
      }
    },
    {
      "cell_type": "code",
      "execution_count": null,
      "metadata": {
        "id": "opkSxLmikgj1"
      },
      "outputs": [],
      "source": [
        "'''load the dataset'''\n",
        "\n",
        "from keras.datasets import imdb\n",
        "\n",
        "(train_data, train_labels), (test_data, test_labels) = imdb.load_data(num_words=10000) "
      ]
    },
    {
      "cell_type": "code",
      "source": [
        "'''\n",
        "- Know what words correspond to each index\n",
        "- To visualize the dataset\n",
        "'''\n",
        "\n",
        "# train_labels[0]\n",
        "word_index = imdb.get_word_index()"
      ],
      "metadata": {
        "id": "0bqpn44slVPi"
      },
      "execution_count": null,
      "outputs": []
    },
    {
      "cell_type": "markdown",
      "source": [
        "## Decode Reviews back to English"
      ],
      "metadata": {
        "id": "j08lp1OUnsD6"
      }
    },
    {
      "cell_type": "code",
      "source": [
        "'''\n",
        "- Decode the indexes back to english words\n",
        "'''\n",
        "\n",
        "reverse_word_index = dict([(value,key) for (key,value) in word_index.items()])\n",
        "\n",
        "decoded_review = ' '.join([reverse_word_index.get(i-3,'?') for i in train_data[0]])\n",
        "\n",
        "# decoded_review"
      ],
      "metadata": {
        "id": "x8SUe8uhl44i"
      },
      "execution_count": null,
      "outputs": []
    },
    {
      "cell_type": "markdown",
      "source": [
        "## Preparing the data"
      ],
      "metadata": {
        "id": "1aFo25l6n5AI"
      }
    },
    {
      "cell_type": "code",
      "source": [
        "import numpy as np\n",
        "\n",
        "# Function to vectorize the input data\n",
        "def vectorize_sequences(sequences, dimensions=10000):\n",
        "  results = np.zeros((len(sequences),dimensions))\n",
        "  for i,sequence in enumerate(sequences):\n",
        "    results[i,sequence] = 1\n",
        "  return results"
      ],
      "metadata": {
        "id": "uhdu77--n61_"
      },
      "execution_count": null,
      "outputs": []
    },
    {
      "cell_type": "code",
      "source": [
        "'''\n",
        "- Preprocessing the data\n",
        "- Split the data into training and test sets\n",
        "'''\n",
        "x_train = vectorize_sequences(train_data)\n",
        "x_test = vectorize_sequences(test_data)\n",
        "print('x_train shape: ', x_train.shape)\n",
        "print('x_test shape: ', x_test.shape)\n",
        "\n",
        "y_train = np.asarray(train_labels).astype('float32')\n",
        "y_test = np.asarray(test_labels).astype('float32')\n",
        "print('y_train shape: ', y_train.shape)\n",
        "print('y_test shape: ', y_test.shape)"
      ],
      "metadata": {
        "colab": {
          "base_uri": "https://localhost:8080/"
        },
        "id": "M3c_7-ZspFBt",
        "outputId": "2d519cf4-fa46-4d0e-b14d-4dbe8c429edf"
      },
      "execution_count": null,
      "outputs": [
        {
          "output_type": "stream",
          "name": "stdout",
          "text": [
            "x_train shape:  (25000, 10000)\n",
            "x_test shape:  (25000, 10000)\n",
            "y_train shape:  (25000,)\n",
            "y_test shape:  (25000,)\n"
          ]
        }
      ]
    },
    {
      "cell_type": "code",
      "source": [
        "x_train[0]\n",
        "# y_train"
      ],
      "metadata": {
        "colab": {
          "base_uri": "https://localhost:8080/"
        },
        "id": "aZGuHkhNp1Ab",
        "outputId": "e2b2fe25-9943-46ec-d9ff-2374c46653e7"
      },
      "execution_count": null,
      "outputs": [
        {
          "output_type": "execute_result",
          "data": {
            "text/plain": [
              "array([0., 1., 1., ..., 0., 0., 0.])"
            ]
          },
          "metadata": {},
          "execution_count": 8
        }
      ]
    },
    {
      "cell_type": "markdown",
      "source": [
        "## Building the network - Overfitting Demostration"
      ],
      "metadata": {
        "id": "vSgLeKNfqhzM"
      }
    },
    {
      "cell_type": "code",
      "source": [
        "'''\n",
        "- Demonstration of overfitting\n",
        "- Look for peaks in the validation loss around 4 epochs\n",
        "- That means overfitting\n",
        "'''\n",
        "\n",
        "from keras import models\n",
        "from keras import layers\n",
        "\n",
        "model = models.Sequential()\n",
        "model.add(layers.Dense(16, activation='relu', input_shape=(10000,)))\n",
        "model.add(layers.Dense(16, activation='relu'))\n",
        "model.add(layers.Dense(1, activation='sigmoid'))"
      ],
      "metadata": {
        "id": "sQNGXJFOql94"
      },
      "execution_count": null,
      "outputs": []
    },
    {
      "cell_type": "code",
      "source": [
        "model.compile(optimizer='rmsprop', \n",
        "              loss='binary_crossentropy',\n",
        "              metrics=['acc'])"
      ],
      "metadata": {
        "id": "VmVjn5v9tHTf"
      },
      "execution_count": null,
      "outputs": []
    },
    {
      "cell_type": "markdown",
      "source": [
        "## Setting aside validation data"
      ],
      "metadata": {
        "id": "0Zw6aPPjt0JP"
      }
    },
    {
      "cell_type": "code",
      "source": [
        "'''\n",
        "- Set aside validation data to monitor the model accuracy\n",
        "'''\n",
        "x_val = x_train[:10000]\n",
        "partial_x_train = x_train[10000:]\n",
        "\n",
        "y_val = y_train[:10000]\n",
        "partial_y_train = y_train[10000:]"
      ],
      "metadata": {
        "id": "E2aKfaTxtzV4"
      },
      "execution_count": null,
      "outputs": []
    },
    {
      "cell_type": "markdown",
      "source": [
        "## Training the model"
      ],
      "metadata": {
        "id": "Na-PQlqfuwN5"
      }
    },
    {
      "cell_type": "code",
      "source": [
        "history = model.fit(partial_x_train,\n",
        "                    partial_y_train,\n",
        "                    epochs=20,\n",
        "                    batch_size=512,\n",
        "                    validation_data=(x_val,y_val))"
      ],
      "metadata": {
        "colab": {
          "base_uri": "https://localhost:8080/"
        },
        "id": "WHDh-rCnuyIg",
        "outputId": "7eac3783-7943-4c6b-d2a4-467172de1059"
      },
      "execution_count": null,
      "outputs": [
        {
          "output_type": "stream",
          "name": "stdout",
          "text": [
            "Epoch 1/20\n",
            "30/30 [==============================] - 3s 69ms/step - loss: 0.5362 - acc: 0.7879 - val_loss: 0.4201 - val_acc: 0.8549\n",
            "Epoch 2/20\n",
            "30/30 [==============================] - 1s 40ms/step - loss: 0.3441 - acc: 0.8891 - val_loss: 0.3238 - val_acc: 0.8814\n",
            "Epoch 3/20\n",
            "30/30 [==============================] - 1s 43ms/step - loss: 0.2576 - acc: 0.9151 - val_loss: 0.2914 - val_acc: 0.8861\n",
            "Epoch 4/20\n",
            "30/30 [==============================] - 2s 69ms/step - loss: 0.2109 - acc: 0.9287 - val_loss: 0.2878 - val_acc: 0.8836\n",
            "Epoch 5/20\n",
            "30/30 [==============================] - 1s 45ms/step - loss: 0.1763 - acc: 0.9417 - val_loss: 0.2772 - val_acc: 0.8875\n",
            "Epoch 6/20\n",
            "30/30 [==============================] - 1s 40ms/step - loss: 0.1527 - acc: 0.9495 - val_loss: 0.2915 - val_acc: 0.8835\n",
            "Epoch 7/20\n",
            "30/30 [==============================] - 1s 40ms/step - loss: 0.1305 - acc: 0.9575 - val_loss: 0.2945 - val_acc: 0.8820\n",
            "Epoch 8/20\n",
            "30/30 [==============================] - 1s 40ms/step - loss: 0.1133 - acc: 0.9659 - val_loss: 0.3246 - val_acc: 0.8804\n",
            "Epoch 9/20\n",
            "30/30 [==============================] - 1s 39ms/step - loss: 0.0995 - acc: 0.9693 - val_loss: 0.3408 - val_acc: 0.8738\n",
            "Epoch 10/20\n",
            "30/30 [==============================] - 1s 41ms/step - loss: 0.0856 - acc: 0.9755 - val_loss: 0.3304 - val_acc: 0.8811\n",
            "Epoch 11/20\n",
            "30/30 [==============================] - 1s 40ms/step - loss: 0.0729 - acc: 0.9807 - val_loss: 0.3847 - val_acc: 0.8747\n",
            "Epoch 12/20\n",
            "30/30 [==============================] - 1s 39ms/step - loss: 0.0676 - acc: 0.9822 - val_loss: 0.3673 - val_acc: 0.8789\n",
            "Epoch 13/20\n",
            "30/30 [==============================] - 1s 47ms/step - loss: 0.0536 - acc: 0.9879 - val_loss: 0.3876 - val_acc: 0.8779\n",
            "Epoch 14/20\n",
            "30/30 [==============================] - 2s 57ms/step - loss: 0.0491 - acc: 0.9881 - val_loss: 0.4069 - val_acc: 0.8774\n",
            "Epoch 15/20\n",
            "30/30 [==============================] - 1s 47ms/step - loss: 0.0415 - acc: 0.9913 - val_loss: 0.4303 - val_acc: 0.8749\n",
            "Epoch 16/20\n",
            "30/30 [==============================] - 1s 38ms/step - loss: 0.0356 - acc: 0.9930 - val_loss: 0.4562 - val_acc: 0.8743\n",
            "Epoch 17/20\n",
            "30/30 [==============================] - 1s 41ms/step - loss: 0.0312 - acc: 0.9942 - val_loss: 0.4728 - val_acc: 0.8710\n",
            "Epoch 18/20\n",
            "30/30 [==============================] - 1s 39ms/step - loss: 0.0261 - acc: 0.9957 - val_loss: 0.4996 - val_acc: 0.8734\n",
            "Epoch 19/20\n",
            "30/30 [==============================] - 1s 40ms/step - loss: 0.0206 - acc: 0.9974 - val_loss: 0.5195 - val_acc: 0.8687\n",
            "Epoch 20/20\n",
            "30/30 [==============================] - 1s 40ms/step - loss: 0.0187 - acc: 0.9975 - val_loss: 0.5419 - val_acc: 0.8696\n"
          ]
        }
      ]
    },
    {
      "cell_type": "code",
      "source": [
        "# Visualizing the loss and accuracy\n",
        "\n",
        "import matplotlib.pyplot as plt\n",
        "\n",
        "history_dict = history.history\n",
        "loss_values = history_dict['loss']\n",
        "val_loss_values = history_dict['val_loss']\n",
        "acc_values = history_dict['acc']\n",
        "val_acc_values = history_dict['val_acc']\n",
        "\n",
        "epochs = range(1,len(acc_values)+1)\n",
        "\n",
        "plt.plot(epochs, loss_values, 'bo', label='Training loss')\n",
        "plt.plot(epochs, val_loss_values, 'b', label=\"Validation loss\")\n",
        "plt.title('Training and Validation loss')\n",
        "plt.xlabel('Epochs')\n",
        "plt.ylabel('Loss')\n",
        "plt.legend()\n",
        "plt.show()\n",
        "\n",
        "plt.clf()\n",
        "plt.plot(epochs, acc_values, 'bo', label=\"Training acc\")\n",
        "plt.plot(epochs, val_acc_values, 'b' , label=\"Validation acc\")\n",
        "plt.title('Training and Validation accuracy')\n",
        "plt.xlabel('Epochs')\n",
        "plt.ylabel('Loss')\n",
        "plt.legend()\n",
        "plt.show()"
      ],
      "metadata": {
        "colab": {
          "base_uri": "https://localhost:8080/",
          "height": 573
        },
        "id": "rEdrGDUZvlSO",
        "outputId": "080575af-0bf0-4a61-94a8-a62d7b55e6d5"
      },
      "execution_count": null,
      "outputs": [
        {
          "output_type": "display_data",
          "data": {
            "text/plain": [
              "<Figure size 432x288 with 1 Axes>"
            ],
            "image/png": "[encoded data removed]"
          },
          "metadata": {
            "needs_background": "light"
          }
        },
        {
          "output_type": "display_data",
          "data": {
            "text/plain": [
              "<Figure size 432x288 with 1 Axes>"
            ],
            "image/png": "[encoded data removed]"
          },
          "metadata": {
            "needs_background": "light"
          }
        }
      ]
    },
    {
      "cell_type": "markdown",
      "source": [
        "##Building the Network - Mitigating Overfitting"
      ],
      "metadata": {
        "id": "pCOpOrkxyyYm"
      }
    },
    {
      "cell_type": "code",
      "source": [
        "'''\n",
        "- New model to mitigate the overfitting\n",
        "- Reduce the number of epochs to 4\n",
        "'''\n",
        "\n",
        "from keras.engine import input_spec\n",
        "model = models.Sequential()\n",
        "model.add(layers.Dense(16, activation='relu', input_shape=(10000,)))\n",
        "model.add(layers.Dense(16, activation='relu'))\n",
        "model.add(layers.Dense(1, activation='sigmoid'))\n",
        "\n",
        "model.compile(optimizer='rmsprop',\n",
        "              loss='binary_crossentropy',\n",
        "              metrics=['accuracy'])\n",
        "\n",
        "history = model.fit(x_train, y_train, epochs=4, batch_size=512)\n",
        "\n",
        "results = model.evaluate(x_test, y_test)"
      ],
      "metadata": {
        "colab": {
          "base_uri": "https://localhost:8080/"
        },
        "id": "-RlRgyacy55y",
        "outputId": "9e829c49-39a8-423a-f70c-e52183c5e7b3"
      },
      "execution_count": null,
      "outputs": [
        {
          "output_type": "stream",
          "name": "stdout",
          "text": [
            "Epoch 1/4\n",
            "49/49 [==============================] - 5s 80ms/step - loss: 0.4483 - accuracy: 0.8164\n",
            "Epoch 2/4\n",
            "49/49 [==============================] - 1s 30ms/step - loss: 0.2664 - accuracy: 0.9057\n",
            "Epoch 3/4\n",
            "49/49 [==============================] - 1s 30ms/step - loss: 0.2071 - accuracy: 0.9268\n",
            "Epoch 4/4\n",
            "49/49 [==============================] - 1s 29ms/step - loss: 0.1790 - accuracy: 0.9359\n",
            "782/782 [==============================] - 2s 3ms/step - loss: 0.3473 - accuracy: 0.8631\n"
          ]
        }
      ]
    },
    {
      "cell_type": "code",
      "source": [
        "print(results)"
      ],
      "metadata": {
        "colab": {
          "base_uri": "https://localhost:8080/"
        },
        "id": "2N6KUaxZ0hCX",
        "outputId": "2f22601d-4604-459f-da49-4f07cc40d005"
      },
      "execution_count": null,
      "outputs": [
        {
          "output_type": "stream",
          "name": "stdout",
          "text": [
            "[0.3472737967967987, 0.8630800247192383]\n"
          ]
        }
      ]
    },
    {
      "cell_type": "markdown",
      "source": [
        "##Predicting Review on new data with trained model"
      ],
      "metadata": {
        "id": "2nX0fwWr0t8u"
      }
    },
    {
      "cell_type": "code",
      "source": [
        "model.predict(x_test)"
      ],
      "metadata": {
        "colab": {
          "base_uri": "https://localhost:8080/"
        },
        "id": "2I6Fjs9J04eg",
        "outputId": "614d960e-ebcb-4052-eca5-41fb5a56ef4c"
      },
      "execution_count": null,
      "outputs": [
        {
          "output_type": "stream",
          "name": "stdout",
          "text": [
            "782/782 [==============================] - 3s 3ms/step\n"
          ]
        },
        {
          "output_type": "execute_result",
          "data": {
            "text/plain": [
              "array([[0.3029611 ],\n",
              "       [0.99985576],\n",
              "       [0.97630805],\n",
              "       ...,\n",
              "       [0.17468607],\n",
              "       [0.16229758],\n",
              "       [0.8885039 ]], dtype=float32)"
            ]
          },
          "metadata": {},
          "execution_count": 17
        }
      ]
    },
    {
      "cell_type": "markdown",
      "source": [
        "##Bridge\n",
        "\n",
        "#### Future Experiments\n",
        "\n",
        "1. Modify the number of hidden layers\n",
        "2. Modify the number of hidden units\n",
        "3. Use different loss functions\n",
        "4. Use different activation functions\n",
        "\n",
        "**Goal:** To increase the accuracy from 88% to 95%(state-of-the-art) or more"
      ],
      "metadata": {
        "id": "j6DZrLnf1NRP"
      }
    }
  ]
}