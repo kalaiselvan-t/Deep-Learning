{
  "nbformat": 4,
  "nbformat_minor": 0,
  "metadata": {
    "colab": {
      "provenance": [],
      "authorship_tag": "ABX9TyPdxBK/CEy2l7/8z9nttcHy",
      "include_colab_link": true
    },
    "kernelspec": {
      "name": "python3",
      "display_name": "Python 3"
    },
    "language_info": {
      "name": "python"
    }
  },
  "cells": [
    {
      "cell_type": "markdown",
      "metadata": {
        "id": "view-in-github",
        "colab_type": "text"
      },
      "source": [
        "<a href=\"https://colab.research.google.com/github/kalaiselvan-t/Deep-Learning/blob/master/Classifying%20newswires%20(Reuters%20dataset)%20%3A%20Multiclass%20Classification.ipynb\" target=\"_parent\"><img src=\"https://colab.research.google.com/assets/colab-badge.svg\" alt=\"Open In Colab\"/></a>"
      ]
    },
    {
      "cell_type": "markdown",
      "source": [
        "## Classifying newswires: Multiclass classification"
      ],
      "metadata": {
        "id": "FJ4hmtAOfUDl"
      }
    },
    {
      "cell_type": "markdown",
      "source": [
        "## Loading the dataset\n",
        "\n",
        "**Description: ** It is a set of short newswires published by Reuters in 1986. It is a simple, widely used toy dataset for text classification. There are 46 different topics. Each topics has at least 10 examples in the dataset\n",
        "\n",
        "**No of Training Examples:**  8982\n",
        "\n",
        "**No of Test Examples:** 2246"
      ],
      "metadata": {
        "id": "rB6cCXrqf2EB"
      }
    },
    {
      "cell_type": "code",
      "execution_count": null,
      "metadata": {
        "id": "0stYhRvqfNgr"
      },
      "outputs": [],
      "source": [
        "from keras.datasets import reuters\n",
        "\n",
        "(train_data, train_labels), (test_data, test_labels) = reuters.load_data(num_words = 10000)     # num_words - restricts the data to the 10000 most frequently occuring words found in the data\n",
        "\n",
        "print(\"Length of training data: \", len(train_data))\n",
        "print(\"Length of test data: \", len(test_data))\n"
      ]
    },
    {
      "cell_type": "code",
      "source": [
        "# train_data[10]\n",
        "\n",
        "'''\n",
        "Decode - Convert index to words\n",
        "'''\n",
        "\n",
        "word_index = reuters.get_word_index()\n",
        "reverse_word_index = dict([(value,key) for (key,value) in word_index.items()])\n",
        "decoded_newswires = ' '.join([reverse_word_index.get(i-3,'?') for i in train_data[0]])\n",
        "\n",
        "# decoded_newswires\n",
        "# train_labels[10]"
      ],
      "metadata": {
        "id": "YlgjlrUQhDg3"
      },
      "execution_count": null,
      "outputs": []
    },
    {
      "cell_type": "markdown",
      "source": [
        "## Preparing the data"
      ],
      "metadata": {
        "id": "nK3mD4h5jXKo"
      }
    },
    {
      "cell_type": "code",
      "source": [
        "import numpy as np\n",
        "\n",
        "def vectorize_sequences(sequences, dimension=10000):\n",
        "  results = np.zeros((len(sequences),dimension))\n",
        "  for i,sequence in enumerate(sequences):\n",
        "    results[i,sequence] = 1\n",
        "  return results\n",
        "\n",
        "def to_one_hot(labels, dimension=46):\n",
        "  results = np.zeros((len(labels), dimension))\n",
        "  for i,label in enumerate(labels):\n",
        "    results[i,label] = 1\n",
        "  return results"
      ],
      "metadata": {
        "id": "UGMjGuxtjWMM"
      },
      "execution_count": null,
      "outputs": []
    },
    {
      "cell_type": "code",
      "source": [
        "x_train = vectorize_sequences(train_data)\n",
        "x_test = vectorize_sequences(test_data)\n",
        "\n",
        "# There is a built in way to do this in keras. Here we are not using it\n",
        "y_train = to_one_hot(train_labels)\n",
        "y_test = to_one_hot(test_labels)"
      ],
      "metadata": {
        "id": "9oRX7e3ij036"
      },
      "execution_count": null,
      "outputs": []
    },
    {
      "cell_type": "markdown",
      "source": [
        "## Building the network"
      ],
      "metadata": {
        "id": "4S0WMbfelG3K"
      }
    },
    {
      "cell_type": "code",
      "source": [
        "from keras import models\n",
        "from keras import layers\n",
        "\n",
        "model = models.Sequential()\n",
        "model.add(layers.Dense(64, activation='relu', input_shape=(10000,)))\n",
        "model.add(layers.Dense(64, activation='relu'))\n",
        "model.add(layers.Dense(46, activation='softmax'))\n",
        "\n",
        "model.compile(optimizer='rmsprop',\n",
        "              loss='categorical_crossentropy',\n",
        "              metrics=['accuracy'])"
      ],
      "metadata": {
        "id": "yWfUjAKVlGj4"
      },
      "execution_count": null,
      "outputs": []
    },
    {
      "cell_type": "markdown",
      "source": [
        "## Validate your approach\n",
        "\n",
        "Set apart 1000 samples from the dataset to use as a validation set"
      ],
      "metadata": {
        "id": "E3jVIOkomp2t"
      }
    },
    {
      "cell_type": "code",
      "source": [
        "x_val = x_train[:1000]\n",
        "partial_x_train = x_train[1000:]\n",
        "\n",
        "y_val = y_train[:1000]\n",
        "partial_y_train = y_train[1000:]"
      ],
      "metadata": {
        "id": "k2D8PE5ZmCxn"
      },
      "execution_count": null,
      "outputs": []
    },
    {
      "cell_type": "code",
      "source": [
        "history = model.fit(partial_x_train, \n",
        "                    partial_y_train,\n",
        "                    epochs=20,\n",
        "                    batch_size=512,\n",
        "                    validation_data = (x_val, y_val))"
      ],
      "metadata": {
        "colab": {
          "base_uri": "https://localhost:8080/"
        },
        "id": "9otghT1QpR6o",
        "outputId": "2398c66d-9d3b-48f9-b3e7-338a34e9f4da"
      },
      "execution_count": null,
      "outputs": [
        {
          "output_type": "stream",
          "name": "stdout",
          "text": [
            "Epoch 1/20\n",
            "16/16 [==============================] - 2s 89ms/step - loss: 2.6934 - accuracy: 0.5096 - val_loss: 1.7968 - val_accuracy: 0.6230\n",
            "Epoch 2/20\n",
            "16/16 [==============================] - 1s 83ms/step - loss: 1.5195 - accuracy: 0.6800 - val_loss: 1.3710 - val_accuracy: 0.6990\n",
            "Epoch 3/20\n",
            "16/16 [==============================] - 1s 66ms/step - loss: 1.1710 - accuracy: 0.7533 - val_loss: 1.1854 - val_accuracy: 0.7390\n",
            "Epoch 4/20\n",
            "16/16 [==============================] - 1s 50ms/step - loss: 0.9557 - accuracy: 0.7923 - val_loss: 1.0781 - val_accuracy: 0.7690\n",
            "Epoch 5/20\n",
            "16/16 [==============================] - 1s 46ms/step - loss: 0.7903 - accuracy: 0.8255 - val_loss: 0.9932 - val_accuracy: 0.7860\n",
            "Epoch 6/20\n",
            "16/16 [==============================] - 1s 44ms/step - loss: 0.6592 - accuracy: 0.8561 - val_loss: 0.9731 - val_accuracy: 0.7780\n",
            "Epoch 7/20\n",
            "16/16 [==============================] - 1s 46ms/step - loss: 0.5496 - accuracy: 0.8795 - val_loss: 0.9072 - val_accuracy: 0.8090\n",
            "Epoch 8/20\n",
            "16/16 [==============================] - 1s 48ms/step - loss: 0.4691 - accuracy: 0.8990 - val_loss: 0.8790 - val_accuracy: 0.8000\n",
            "Epoch 9/20\n",
            "16/16 [==============================] - 1s 48ms/step - loss: 0.3960 - accuracy: 0.9157 - val_loss: 0.8557 - val_accuracy: 0.8150\n",
            "Epoch 10/20\n",
            "16/16 [==============================] - 1s 49ms/step - loss: 0.3376 - accuracy: 0.9265 - val_loss: 0.8543 - val_accuracy: 0.8100\n",
            "Epoch 11/20\n",
            "16/16 [==============================] - 1s 46ms/step - loss: 0.2904 - accuracy: 0.9356 - val_loss: 0.8545 - val_accuracy: 0.8180\n",
            "Epoch 12/20\n",
            "16/16 [==============================] - 1s 45ms/step - loss: 0.2552 - accuracy: 0.9412 - val_loss: 0.8923 - val_accuracy: 0.8040\n",
            "Epoch 13/20\n",
            "16/16 [==============================] - 1s 45ms/step - loss: 0.2294 - accuracy: 0.9444 - val_loss: 0.8678 - val_accuracy: 0.8150\n",
            "Epoch 14/20\n",
            "16/16 [==============================] - 1s 45ms/step - loss: 0.2040 - accuracy: 0.9468 - val_loss: 0.8812 - val_accuracy: 0.8140\n",
            "Epoch 15/20\n",
            "16/16 [==============================] - 1s 45ms/step - loss: 0.1844 - accuracy: 0.9513 - val_loss: 0.8814 - val_accuracy: 0.8170\n",
            "Epoch 16/20\n",
            "16/16 [==============================] - 1s 48ms/step - loss: 0.1709 - accuracy: 0.9524 - val_loss: 0.9409 - val_accuracy: 0.8000\n",
            "Epoch 17/20\n",
            "16/16 [==============================] - 1s 83ms/step - loss: 0.1609 - accuracy: 0.9543 - val_loss: 0.9048 - val_accuracy: 0.8120\n",
            "Epoch 18/20\n",
            "16/16 [==============================] - 1s 87ms/step - loss: 0.1522 - accuracy: 0.9548 - val_loss: 0.9015 - val_accuracy: 0.8190\n",
            "Epoch 19/20\n",
            "16/16 [==============================] - 1s 47ms/step - loss: 0.1459 - accuracy: 0.9534 - val_loss: 0.9600 - val_accuracy: 0.7990\n",
            "Epoch 20/20\n",
            "16/16 [==============================] - 1s 45ms/step - loss: 0.1322 - accuracy: 0.9570 - val_loss: 0.9318 - val_accuracy: 0.8130\n"
          ]
        }
      ]
    },
    {
      "cell_type": "code",
      "source": [
        "import matplotlib.pyplot as plt\n",
        "\n",
        "loss = history.history['loss']\n",
        "val_loss = history.history['val_loss']\n",
        "epochs = range(1, len(loss) + 1)\n",
        "\n",
        "acc = history.history['accuracy']\n",
        "val_acc = history.history['val_accuracy']\n",
        "\n",
        "plt.plot(epochs, loss, 'bo', label=\"Training loss\")\n",
        "plt.plot(epochs, val_loss, 'b', label=\"Validation loss\")\n",
        "plt.title(\"Training and Validation loss\")\n",
        "plt.xlabel('Epochs')\n",
        "plt.ylabel('Loss')\n",
        "plt.legend()\n",
        "plt.show()\n",
        "\n",
        "plt.clf()\n",
        "plt.plot(epochs, acc, 'bo', label=\"Training acc\")\n",
        "plt.plot(epochs, val_acc, 'b', label=\"Validation acc\")\n",
        "plt.title('Training and Validation accuracy')\n",
        "plt.xlabel('Epochs')\n",
        "plt.ylabel('Accuracy')\n",
        "plt.legend()\n",
        "plt.show()"
      ],
      "metadata": {
        "colab": {
          "base_uri": "https://localhost:8080/",
          "height": 573
        },
        "id": "GWsJRyatprju",
        "outputId": "945d787a-a4a9-4ccc-e0dc-0271216d08ed"
      },
      "execution_count": null,
      "outputs": [
        {
          "output_type": "display_data",
          "data": {
            "text/plain": [
              "<Figure size 432x288 with 1 Axes>"
            ],
            "image/png": "[encoded data removed]"
          },
          "metadata": {
            "needs_background": "light"
          }
        },
        {
          "output_type": "display_data",
          "data": {
            "text/plain": [
              "<Figure size 432x288 with 1 Axes>"
            ],
            "image/png": "[encoded data removed]"
          },
          "metadata": {
            "needs_background": "light"
          }
        }
      ]
    },
    {
      "cell_type": "markdown",
      "source": [
        "## Retrain the model"
      ],
      "metadata": {
        "id": "GFeQeRMktNPH"
      }
    },
    {
      "cell_type": "code",
      "source": [
        "model = models.Sequential()\n",
        "model.add(layers.Dense(64, activation='relu', input_shape=(10000,)))\n",
        "model.add(layers.Dense(64, activation='relu'))\n",
        "model.add(layers.Dense(46, activation='softmax'))\n",
        "\n",
        "model.compile(optimizer='rmsprop',\n",
        "              loss='categorical_crossentropy',\n",
        "              metrics=['accuracy'])\n",
        "\n",
        "model.fit(partial_x_train,\n",
        "          partial_y_train,\n",
        "          epochs=9,\n",
        "          batch_size=512,\n",
        "          validation_data=(x_val, y_val))\n",
        "\n",
        "results = model.evaluate(x_test, y_test)"
      ],
      "metadata": {
        "colab": {
          "base_uri": "https://localhost:8080/"
        },
        "id": "CVU0t2lKszdl",
        "outputId": "d2b74556-9ccb-4f98-a812-40fbbbd72e2b"
      },
      "execution_count": null,
      "outputs": [
        {
          "output_type": "stream",
          "name": "stdout",
          "text": [
            "Epoch 1/9\n",
            "16/16 [==============================] - 3s 106ms/step - loss: 2.7657 - accuracy: 0.4530 - val_loss: 1.9008 - val_accuracy: 0.6050\n",
            "Epoch 2/9\n",
            "16/16 [==============================] - 1s 46ms/step - loss: 1.5925 - accuracy: 0.6708 - val_loss: 1.3923 - val_accuracy: 0.6910\n",
            "Epoch 3/9\n",
            "16/16 [==============================] - 1s 44ms/step - loss: 1.1946 - accuracy: 0.7452 - val_loss: 1.1804 - val_accuracy: 0.7400\n",
            "Epoch 4/9\n",
            "16/16 [==============================] - 1s 47ms/step - loss: 0.9712 - accuracy: 0.7902 - val_loss: 1.0660 - val_accuracy: 0.7760\n",
            "Epoch 5/9\n",
            "16/16 [==============================] - 1s 45ms/step - loss: 0.8054 - accuracy: 0.8285 - val_loss: 0.9983 - val_accuracy: 0.7970\n",
            "Epoch 6/9\n",
            "16/16 [==============================] - 1s 45ms/step - loss: 0.6767 - accuracy: 0.8534 - val_loss: 0.9642 - val_accuracy: 0.7900\n",
            "Epoch 7/9\n",
            "16/16 [==============================] - 1s 47ms/step - loss: 0.5688 - accuracy: 0.8772 - val_loss: 0.9353 - val_accuracy: 0.7880\n",
            "Epoch 8/9\n",
            "16/16 [==============================] - 1s 49ms/step - loss: 0.4748 - accuracy: 0.8999 - val_loss: 0.8941 - val_accuracy: 0.8110\n",
            "Epoch 9/9\n",
            "16/16 [==============================] - 1s 46ms/step - loss: 0.4047 - accuracy: 0.9158 - val_loss: 0.8731 - val_accuracy: 0.8080\n",
            "71/71 [==============================] - 0s 3ms/step - loss: 0.9472 - accuracy: 0.7854\n"
          ]
        }
      ]
    },
    {
      "cell_type": "code",
      "source": [
        "results"
      ],
      "metadata": {
        "colab": {
          "base_uri": "https://localhost:8080/"
        },
        "id": "EDBsqUnqurPk",
        "outputId": "e4dc5924-4a22-4900-de46-d40b8c848f4c"
      },
      "execution_count": null,
      "outputs": [
        {
          "output_type": "execute_result",
          "data": {
            "text/plain": [
              "[0.9472484588623047, 0.7853962779045105]"
            ]
          },
          "metadata": {},
          "execution_count": 28
        }
      ]
    },
    {
      "cell_type": "code",
      "source": [
        "predictions = model.predict(x_test)\n",
        "\n",
        "predictions[0].shape\n",
        "np.sum(predictions[0])\n",
        "np.argmax(predictions[0])"
      ],
      "metadata": {
        "id": "S2tWTzukvEsG"
      },
      "execution_count": null,
      "outputs": []
    },
    {
      "cell_type": "markdown",
      "source": [
        "## Bridge\n",
        "\n",
        "#### Future Experiments\n",
        "\n",
        "1. Modify the number of layers\n",
        "2. Modify the number of hidden units"
      ],
      "metadata": {
        "id": "UNgq8ga1v0uD"
      }
    }
  ]
}